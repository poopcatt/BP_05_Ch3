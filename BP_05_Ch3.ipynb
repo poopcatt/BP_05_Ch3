{
  "nbformat": 4,
  "nbformat_minor": 0,
  "metadata": {
    "colab": {
      "provenance": [],
      "include_colab_link": true
    },
    "kernelspec": {
      "name": "python3",
      "display_name": "Python 3"
    },
    "language_info": {
      "name": "python"
    }
  },
  "cells": [
    {
      "cell_type": "markdown",
      "metadata": {
        "id": "view-in-github",
        "colab_type": "text"
      },
      "source": [
        "<a href=\"https://colab.research.google.com/github/poopcatt/BP_05_Ch3/blob/main/BP_05_Ch3.ipynb\" target=\"_parent\"><img src=\"https://colab.research.google.com/assets/colab-badge.svg\" alt=\"Open In Colab\"/></a>"
      ]
    },
    {
      "cell_type": "markdown",
      "source": [
        "1. 사용자로부터 두 개의 정수를 받아서 정수의 합, 정수의 차, 정수의 곱, 정수의 펑균, 큰 \n",
        "수, 작은 수를 계산하여 화면에 출력하는 프로그램을 작성하라. 파이썬이 제공하는 내장 함수 max(x, y), min(x, y)을 사용해보자."
      ],
      "metadata": {
        "id": "kq7tkHfJd1AX"
      }
    },
    {
      "cell_type": "code",
      "execution_count": null,
      "metadata": {
        "colab": {
          "base_uri": "https://localhost:8080/"
        },
        "id": "748lHuA9TCpE",
        "outputId": "e38d8f27-9df5-476b-f30f-e05007e5fdc6"
      },
      "outputs": [
        {
          "output_type": "stream",
          "name": "stdout",
          "text": [
            "x의 값은?: 9\n",
            "y의 값은?: 6\n",
            "두 수의 합은:  15\n",
            "두 수의 차는:  3\n",
            "두 수의 곱은:  54\n",
            "두 수의 평균은:  7.5\n",
            "큰 수는?:  9\n",
            "작은 수는?:  6\n"
          ]
        }
      ],
      "source": [
        "x = int(input(\"x의 값은?: \"))\n",
        "y = int(input(\"y의 값은?: \"))\n",
        "\n",
        "print(\"두 수의 합은: \", x+y )\n",
        "print(\"두 수의 차는: \", x-y )\n",
        "print(\"두 수의 곱은: \", x*y )\n",
        "print(\"두 수의 평균은: \", (x+y)/2 )\n",
        "print(\"큰 수는?: \", max(x, y) )\n",
        "print(\"작은 수는?: \", min(x, y))\n"
      ]
    },
    {
      "cell_type": "markdown",
      "source": [
        "2. 원기둥의 부피를 계산하는 프로그램을 작성해보자. 원기둥의 부피는 다음과 같이 계산한다."
      ],
      "metadata": {
        "id": "yM9MsNOoePGI"
      }
    },
    {
      "cell_type": "code",
      "source": [
        "r = float(input(\"r값은?:\"))\n",
        "h = float(input(\"h값은?:\"))\n",
        "\n",
        "vol = 3.141592* r**2 *h\n",
        "print(\"원기둥의 부피:\", vol)"
      ],
      "metadata": {
        "colab": {
          "base_uri": "https://localhost:8080/"
        },
        "id": "s8TwPsoWb8Zl",
        "outputId": "cc233a7b-b13d-407a-af44-65c34fbf330d"
      },
      "execution_count": null,
      "outputs": [
        {
          "output_type": "stream",
          "name": "stdout",
          "text": [
            "r값은?:10\n",
            "h값은?:10\n",
            "원기둥의 부피: 3141.592\n"
          ]
        }
      ]
    },
    {
      "cell_type": "markdown",
      "source": [
        "3. 사용자로부터 정수를 받아서 정수의 자리수의 합을 계산하는 프로그램을 작성하여 보자. 예릍 들어서 사용자가 1234를 입력하였다면 1+2+3+4를 계산하면 된다. 나머지 연산자와 정수 나눗셈 연산자 //를 적극적으로 사용해보자.자리수는 number % 10으로 계산할 수 있다. (1의 자리수는 number = number // 10한 후에 동일한 처리를 되풀이 한다. 단 반복문은 사용하지 않는다.)"
      ],
      "metadata": {
        "id": "7tIFltA8enyJ"
      }
    },
    {
      "cell_type": "code",
      "source": [
        "number = int(input(\"정수를 입력하시오:\"))\n",
        "\n",
        "sum = 0\n",
        "sum = sum + number % 10\n",
        "number = number // 10\n",
        "\n",
        "\n",
        "sum = sum + number % 10\n",
        "number = number // 10\n",
        "\n",
        "sum = sum + number % 10\n",
        "number = number // 10\n",
        "\n",
        "sum = sum + number % 10\n",
        "number = number // 10\n",
        "\n",
        "print(\"자리수의 합은: \", str(sum))"
      ],
      "metadata": {
        "colab": {
          "base_uri": "https://localhost:8080/"
        },
        "id": "i_QVyHRlfEiB",
        "outputId": "bc1342fe-fb2a-441d-c36c-d2487277b719"
      },
      "execution_count": null,
      "outputs": [
        {
          "output_type": "stream",
          "name": "stdout",
          "text": [
            "정수를 입력하시오:1234\n",
            "자리수의 합은:  10\n"
          ]
        }
      ]
    },
    {
      "cell_type": "markdown",
      "source": [
        "4. 사용자로부터 두 점의 좌표 (x1, y1)과 (x2, y2)를 입력받아서 두 점 사이의 거리를 계산하는 프로그램을 작셩해보자. 스크립트 모드로 작성하라. 거리는 다음 식으로 계산한다."
      ],
      "metadata": {
        "id": "m-TEW720gpja"
      }
    },
    {
      "cell_type": "code",
      "source": [
        "x1 = int(input(\"x1의 값을 입력하시오: \"))\n",
        "x2 = int(input(\"x2의 값을 입력하시오: \"))\n",
        "y1 = int(input(\"y1의 값을 입력하시오: \"))\n",
        "y2 = int(input(\"y2의 값을 입력하시오: \"))\n",
        "d = ((x1 - x2)**2 + (y1 - y2)**2)**0.5\n",
        "print(\"두 점 사이의 거리는\", d, \"입니다.\")"
      ],
      "metadata": {
        "colab": {
          "base_uri": "https://localhost:8080/"
        },
        "id": "QMZ1w4DVg4x9",
        "outputId": "4b7dcc77-06db-4808-8f81-b05bc8fc717c"
      },
      "execution_count": null,
      "outputs": [
        {
          "output_type": "stream",
          "name": "stdout",
          "text": [
            "x1의 값을 입력하시오: 0\n",
            "x2의 값을 입력하시오: 100\n",
            "y1의 값을 입력하시오: 0\n",
            "y2의 값을 입력하시오: 100\n",
            "두 점 사이의 거리는 141.4213562373095 입니다.\n"
          ]
        }
      ]
    },
    {
      "cell_type": "markdown",
      "source": [
        "5. 4번문제에서 계산한 거리가 맞는지, 터틀그래픽으로 확인해보자. 거북이를 왼쪽으로 45도회전하여 141만큼 전진시킨다. 다시 거북이를 (0, 0)으로 이동하고 0도를 가리키게 한 후에 100만큼 전진하고 왼쪽으로 90도 회전하여 \n",
        "100만큼 전진한다. 화면에 그려진 직선이 일치 \n",
        "하는가?"
      ],
      "metadata": {
        "id": "GTLU18CMlNAu"
      }
    },
    {
      "cell_type": "code",
      "source": [
        "import turtle\n",
        "t = turtle.Turtle()\n",
        "t.shape(\"turtle\")\n",
        "t.left(45)\n",
        "t.fd(141)\n",
        "t.setheading(0)\n",
        "t.goto(0,0)\n",
        "t.fd(100)\n",
        "t.left(90)\n",
        "t.fd(100)"
      ],
      "metadata": {
        "id": "OCo5gP7AmvHz"
      },
      "execution_count": null,
      "outputs": []
    },
    {
      "cell_type": "markdown",
      "source": [
        "6. 사용자로부터 두 점을 입력받아서 터틀 그래픽을 이용하여 두 점을 연결하는 직선을 그린다. 직선의 끝점에 직선의 길이를 계산하여 츨력해보자."
      ],
      "metadata": {
        "id": "hQd9bg3Dnhmy"
      }
    },
    {
      "cell_type": "code",
      "source": [
        "import turtle\n",
        "t = turtle.Turtle()\n",
        "t.shape(\"turtle\")\n",
        "x1 = int(input(\"x1:\"))\n",
        "y1 = int(input(\"y1:\"))\n",
        "x2 = int(input(\"x2:\"))\n",
        "y2 = int(input(\"y2:\"))\n",
        "d = ((x1 - x2)**2 + (y1 - y2)**2)**0.5\n",
        "t.up()\n",
        "t.goto(x1, y1)\n",
        "t.down()\n",
        "t.goto(x2,y2)\n",
        "t.write(\"두 점 사이의 거리\" + str(d))"
      ],
      "metadata": {
        "id": "MhZDCUg0n09j"
      },
      "execution_count": null,
      "outputs": []
    },
    {
      "cell_type": "markdown",
      "source": [
        "7. 파이썬에서 time()을 호출하면 1970년 1월 1일 이후 흘러온 전체 초가 반환된다.이것을 적절하게 나누거나 나머지를 구해서 현재 시간의 시와 분을 계산할 수 있을까?"
      ],
      "metadata": {
        "id": "MsNtboJ9RDOE"
      }
    },
    {
      "cell_type": "code",
      "source": [
        "import time\n",
        "\n",
        "fsec= time.time()\n",
        "fsec=int(fsec)\n",
        "fmin= fsec//60      #초를 60으로 나눔 -> 여태 흐른 분\n",
        "nmin=fmin%60        #초를 60으로 나눈것의 나머지 -> 지금 분\n",
        "fhour=fmin//60//24  #분을 24로 나눔 -> 여태 흐른 시간\n",
        "nhour=fmin//60%24   #분을 24로 나눈것의 나머지 -> 지금 시\n",
        "snmin=str(nmin)\n",
        "snhour=str(nhour)\n",
        "\n",
        "print(\"현재 시간(GMT+0): \"+snhour+\"시\"+snmin+\"분\")"
      ],
      "metadata": {
        "id": "1XFTrd7fRbwK",
        "outputId": "d7271547-d5ac-4035-f60c-b22e738940cc",
        "colab": {
          "base_uri": "https://localhost:8080/"
        }
      },
      "execution_count": null,
      "outputs": [
        {
          "output_type": "stream",
          "name": "stdout",
          "text": [
            "현재 시간(GMT+0): 3시42분\n"
          ]
        }
      ]
    },
    {
      "cell_type": "markdown",
      "source": [
        "8. 움직이는 물체의 운동에너지를 계산해보자. 물체의 에너지를 계산하는 식은 1/2x무게x속도x2이다."
      ],
      "metadata": {
        "id": "W7GTE2CUSgAt"
      }
    },
    {
      "cell_type": "code",
      "source": [
        "kg=int(input(\"물체의 무게를 입력하시오(킬로그램): \"))\n",
        "s=int(input(\"물체의 속도를 입력하시오(미터/초): \"))\n",
        "J=1/2*kg*s**2\n",
        "print(\"물체는\",J,\"(줄)의 에너지를 가지고 있다.\")"
      ],
      "metadata": {
        "colab": {
          "base_uri": "https://localhost:8080/"
        },
        "id": "RC7n9kQqS4OW",
        "outputId": "7ed5ca7f-9580-40d0-8dbf-cd5a7de46585"
      },
      "execution_count": 1,
      "outputs": [
        {
          "output_type": "stream",
          "name": "stdout",
          "text": [
            "물체의 무게를 입력하시오(킬로그램): 10\n",
            "물체의 속도를 입력하시오(미터/초): 100\n",
            "물체는 50000.0 (줄)의 에너지를 가지고 있다.\n"
          ]
        }
      ]
    }
  ]
}
